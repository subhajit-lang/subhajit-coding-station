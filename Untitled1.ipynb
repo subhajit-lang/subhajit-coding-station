{
  "nbformat": 4,
  "nbformat_minor": 0,
  "metadata": {
    "colab": {
      "provenance": [],
      "toc_visible": true,
      "authorship_tag": "ABX9TyP368khs8g+dQQM7V2UW0/k",
      "include_colab_link": true
    },
    "kernelspec": {
      "name": "python3",
      "display_name": "Python 3"
    },
    "language_info": {
      "name": "python"
    }
  },
  "cells": [
    {
      "cell_type": "markdown",
      "metadata": {
        "id": "view-in-github",
        "colab_type": "text"
      },
      "source": [
        "<a href=\"https://colab.research.google.com/github/subhajit-lang/subhajit-coding-station/blob/main/Untitled1.ipynb\" target=\"_parent\"><img src=\"https://colab.research.google.com/assets/colab-badge.svg\" alt=\"Open In Colab\"/></a>"
      ]
    },
    {
      "cell_type": "code",
      "execution_count": 2,
      "metadata": {
        "colab": {
          "base_uri": "https://localhost:8080/"
        },
        "id": "snArmx4Hi3GI",
        "outputId": "96dac42a-0a70-455b-d517-edadcddfc5f3"
      },
      "outputs": [
        {
          "output_type": "stream",
          "name": "stdout",
          "text": [
            "Accuracy: 74.68%\n",
            "Confusion Matrix:\n",
            "[[78 21]\n",
            " [18 37]]\n",
            "Classification Report:\n",
            "              precision    recall  f1-score   support\n",
            "\n",
            "           0       0.81      0.79      0.80        99\n",
            "           1       0.64      0.67      0.65        55\n",
            "\n",
            "    accuracy                           0.75       154\n",
            "   macro avg       0.73      0.73      0.73       154\n",
            "weighted avg       0.75      0.75      0.75       154\n",
            "\n"
          ]
        }
      ],
      "source": [
        "import pandas as pd\n",
        "from sklearn.model_selection import train_test_split\n",
        "from sklearn.linear_model import LogisticRegression\n",
        "from sklearn.metrics import accuracy_score, confusion_matrix, classification_report\n",
        "\n",
        "# Load the dataset\n",
        "file_path = '/content/diabetes.csv'\n",
        "data = pd.read_csv(file_path)\n",
        "\n",
        "# Separate features and target variable\n",
        "X = data.drop(columns=['Outcome'])  # Features\n",
        "y = data['Outcome']  # Target variable\n",
        "\n",
        "# Split the data into training and testing sets\n",
        "X_train, X_test, y_train, y_test = train_test_split(X, y, test_size=0.2, random_state=42)\n",
        "\n",
        "# Initialize and train the logistic regression model\n",
        "model = LogisticRegression(max_iter=1000)\n",
        "model.fit(X_train, y_train)\n",
        "\n",
        "# Make predictions on the test set\n",
        "y_pred = model.predict(X_test)\n",
        "\n",
        "# Evaluate the model's performance\n",
        "accuracy = accuracy_score(y_test, y_pred)\n",
        "conf_matrix = confusion_matrix(y_test, y_pred)\n",
        "class_report = classification_report(y_test, y_pred)\n",
        "\n",
        "# Print the results\n",
        "print(f\"Accuracy: {accuracy * 100:.2f}%\")\n",
        "print(\"Confusion Matrix:\")\n",
        "print(conf_matrix)\n",
        "print(\"Classification Report:\")\n",
        "print(class_report)\n",
        "\n",
        "# Function to take input and predict outcome\n",
        "def predict_diabetes(predefined_data=None):\n",
        "    if predefined_data is None:\n",
        "        print(\"Enter the following values:\")\n",
        "        pregnancies = float(input(\"Pregnancies: \"))\n",
        "        glucose = float(input(\"Glucose: \"))\n",
        "        blood_pressure = float(input(\"Blood Pressure: \"))\n",
        "        skin_thickness = float(input(\"Skin Thickness: \"))\n",
        "        insulin = float(input(\"Insulin: \"))\n",
        "        bmi = float(input(\"BMI: \"))\n",
        "        diabetes_pedigree_function = float(input(\"Diabetes Pedigree Function: \"))\n",
        "        age = int(input(\"Age: \"))\n",
        "\n",
        "        # Prepare the input data\n",
        "        input_data = pd.DataFrame({\n",
        "            'Pregnancies': [pregnancies],\n",
        "            'Glucose': [glucose],\n",
        "            'BloodPressure': [blood_pressure],\n",
        "            'SkinThickness': [skin_thickness],\n",
        "            'Insulin': [insulin],\n",
        "            'BMI': [bmi],\n",
        "            'DiabetesPedigreeFunction': [diabetes_pedigree_function],\n",
        "            'Age': [age]\n",
        "        })\n",
        "    else:\n",
        "        input_data = pd.DataFrame(predefined_data)\n",
        "\n",
        "    # Predict the outcome\n",
        "    prediction = model.predict(input_data)[0]\n",
        "    if prediction == 1:\n",
        "        print(\"The model predicts: Diabetes detected.\")\n",
        "    else:\n",
        "        print(\"The model predicts: No diabetes detected.\")\n",
        "\n",
        "# Example predefined data\n",
        "def example_run():\n",
        "    predefined_data = {\n",
        "        'Pregnancies': [2],\n",
        "        'Glucose': [120],\n",
        "        'BloodPressure': [70],\n",
        "        'SkinThickness': [30],\n",
        "        'Insulin': [85],\n",
        "        'BMI': [28.1],\n",
        "        'DiabetesPedigreeFunction': [0.5],\n",
        "        'Age': [25]\n",
        "    }\n",
        "    predict_diabetes(predefined_data)\n",
        "\n",
        "# Uncomment the following line to run the example with predefined data\n",
        "# example_run()"
      ]
    }
  ]
}